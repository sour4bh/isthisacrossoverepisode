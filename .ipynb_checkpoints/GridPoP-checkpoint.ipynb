{
 "cells": [
  {
   "cell_type": "code",
   "execution_count": 20,
   "metadata": {},
   "outputs": [
    {
     "name": "stdout",
     "output_type": "stream",
     "text": [
      "mul(mul(se, se), add(shape, bn))\n",
      "225\n"
     ]
    }
   ],
   "source": [
    "# import random\n",
    "# import operator\n",
    "# import numpy as np\n",
    "# import pandas as pd\n",
    "# # from binarytree import Node,build\n",
    "# import random\n",
    "# from sklearn.model_selection import train_test_split\n",
    "# import matplotlib.pyplot as plt\n",
    "import operator\n",
    "\n",
    "\n",
    "from deap.base import *\n",
    "from deap.creator import *\n",
    "from deap.gp import *\n",
    "from deap.tools import *\n",
    "\n",
    "\n",
    "\n",
    "def protectedDiv(left, right):\n",
    "    try:\n",
    "        return left / right\n",
    "    except ZeroDivisionError:\n",
    "        return 1\n",
    "\n",
    "pset = PrimitiveSet(\"main\", 9)\n",
    "pset.addPrimitive(operator.add, 2)\n",
    "pset.addPrimitive(operator.sub, 2)\n",
    "pset.addPrimitive(operator.mul, 2)\n",
    "pset.addPrimitive(protectedDiv, 2)\n",
    "# pset.addEphemeralConstant(\"randconst\", lambda: random.randint(-1,1))\n",
    "\n",
    "\n",
    "# pset = gp.PrimitiveSet(\"main\", 9)\n",
    "# pset.addPrimitive(max, 2)\n",
    "# pset.addPrimitive(operator.add, 2)\n",
    "# pset.addPrimitive(operator.mul, 2)\n",
    "# a=4\n",
    "# pset.addTerminal(4)\n",
    "\n",
    "pset.renameArguments(ARG0=\"thickness\")\n",
    "pset.renameArguments(ARG1=\"size\")\n",
    "pset.renameArguments(ARG2=\"shape\")\n",
    "pset.renameArguments(ARG3=\"ma\")\n",
    "pset.renameArguments(ARG4=\"se\")\n",
    "pset.renameArguments(ARG5=\"bn\")\n",
    "pset.renameArguments(ARG6=\"bc\")\n",
    "pset.renameArguments(ARG7=\"nn\")\n",
    "pset.renameArguments(ARG8=\"mitoses\")\n",
    "\n",
    "\n",
    "expr = gp.genFull(pset, min_=1, max_=5)\n",
    "tree = gp.PrimitiveTree(expr)\n",
    "\n",
    "\n",
    "def treeEval(individual, points):\n",
    "    func = compile(individual, pset)\n",
    "    return 0\n",
    "\n",
    "\n",
    "# func = compile(tree, pset)\n",
    "# print(tree)\n",
    "# print(func(1,2,3,4,5,6,7,8,9))\n",
    "\n",
    "\n",
    "\n",
    "creator.create(\"FitnessMin\", base.Fitness, weights=(-1.0,))\n",
    "creator.create(\"Individual\", gp.PrimitiveTree, fitness=creator.FitnessMin, pset=pset)\n",
    "\n",
    "toolbox = base.Toolbox()\n",
    "\n",
    "toolbox.register(\"expr\", gp.genFULL, pset=pset, min_=3, max_=5)\n",
    "toolbox.register(\"individual\", tools.initIterate, creator.Individual, toolbox.expr)\n",
    "\n",
    "\n",
    "\n",
    "\n",
    "\n",
    "# toolbox.register(\"row\", tools.initRepeat, list, toolbox.individual, n=10)\n",
    "# toolbox.register(\"population\", tools.initRepeat, list, toolbox.row, n=10)\n",
    "\n",
    "\n",
    "\n",
    "# x=toolbox.population()\n",
    "# print(x[1][1])\n",
    "# print(x[9][9])\n",
    "\n",
    "# tree = gp.PrimitiveTree(expr)\n",
    "\n",
    "# function = gp.compile(str(x[1][1]), pset)\n"
   ]
  },
  {
   "cell_type": "code",
   "execution_count": null,
   "metadata": {
    "collapsed": true
   },
   "outputs": [],
   "source": []
  },
  {
   "cell_type": "code",
   "execution_count": null,
   "metadata": {
    "collapsed": true
   },
   "outputs": [],
   "source": []
  }
 ],
 "metadata": {
  "kernelspec": {
   "display_name": "Python 3",
   "language": "python",
   "name": "python3"
  },
  "language_info": {
   "codemirror_mode": {
    "name": "ipython",
    "version": 3
   },
   "file_extension": ".py",
   "mimetype": "text/x-python",
   "name": "python",
   "nbconvert_exporter": "python",
   "pygments_lexer": "ipython3",
   "version": "3.6.6"
  }
 },
 "nbformat": 4,
 "nbformat_minor": 2
}
